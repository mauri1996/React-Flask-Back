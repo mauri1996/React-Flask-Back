{
 "cells": [
  {
   "cell_type": "code",
   "execution_count": 131,
   "id": "minor-receptor",
   "metadata": {},
   "outputs": [],
   "source": [
    "import pandas as pd\n",
    "import json\n",
    "\n",
    "def consulta2():\n",
    "    anio = '1987'\n",
    "    df = pd.read_csv('part-00000-0d685a34-50ce-44b6-82a2-c70f3869bdba-c000.csv', header=0 , sep=',')\n",
    "    df = df.sort_values('Year')\n",
    "    df.set_index('Year' , inplace=True)\n",
    "    df1 = df.loc[anio , ['UniqueCarrier', 'count']]\n",
    "    datos = []\n",
    "    if (isinstance(df1, pd.core.series.Series)):\n",
    "        #print(type(df1.count()))    \n",
    "        dicDatos = {'aerolinea' : df1.UniqueCarrier , 'retraso' : df1.count().astype('str')}\n",
    "        datos.append(dicDatos)\n",
    "        dicJson = {anio : datos}\n",
    "    else:\n",
    "        #print ('no es serie')\n",
    "        for registro in df1.itertuples():        \n",
    "            dicDatos = {'aerolinea' : registro.UniqueCarrier , 'retraso' : registro.count}\n",
    "            datos.append(dicDatos)\n",
    "            dicdatos = {}\n",
    "            dicJson = {anio : datos}\n",
    "\n",
    "    return (dicJson)"
   ]
  },
  {
   "cell_type": "code",
   "execution_count": 132,
   "id": "numerical-fruit",
   "metadata": {},
   "outputs": [
    {
     "name": "stdout",
     "output_type": "stream",
     "text": [
      "{'1987': [{'aerolinea': 'PS', 'retraso': '2'}]}\n"
     ]
    }
   ],
   "source": [
    "print(consulta2())"
   ]
  },
  {
   "cell_type": "code",
   "execution_count": 147,
   "id": "ranking-agency",
   "metadata": {},
   "outputs": [],
   "source": [
    "def consulta4():\n",
    "    anio = '1987'\n",
    "    #anio = request.args.get('anio')\n",
    "    df = pd.read_csv('part-00000-8e04c36e-aa83-40d0-b8d7-fb17318ffbec-c000.csv', header=0 , sep=',')\n",
    "    df = df.sort_values('Year')\n",
    "    df.set_index('Year' , inplace=True)\n",
    "    df1 = df.loc[anio , ['Month', 'UniqueCarrier' , 'count']]\n",
    "    datos = []\n",
    "    if (isinstance(df1, pd.core.series.Series)):\n",
    "        print(type(df1.Month))    \n",
    "        dicDatos = {'mes' : df1.Month.astype('str') , 'aerolinea' : df1.UniqueCarrier , 'retrasos' : df1.count().astype('str')}\n",
    "        datos.append(dicDatos)\n",
    "        dicJson = {anio : datos}\n",
    "    else:\n",
    "        for registro in df1.itertuples():\n",
    "            dicDatos = {'mes' : registro.Month , 'aerolinea' : registro.UniqueCarrier , 'retrasos' : registro.count}\n",
    "            datos.append(dicDatos)\n",
    "            dicdatos = {}\n",
    "        dicJson = {anio : datos}\n",
    "    return json.dumps(dicJson)"
   ]
  },
  {
   "cell_type": "code",
   "execution_count": 148,
   "id": "generic-montreal",
   "metadata": {},
   "outputs": [
    {
     "name": "stdout",
     "output_type": "stream",
     "text": [
      "<class 'numpy.int64'>\n",
      "{\"1987\": [{\"mes\": \"10\", \"aerolinea\": \"PS\", \"retrasos\": \"3\"}]}\n"
     ]
    }
   ],
   "source": [
    "print(consulta4())"
   ]
  },
  {
   "cell_type": "code",
   "execution_count": null,
   "id": "negative-bikini",
   "metadata": {},
   "outputs": [],
   "source": []
  },
  {
   "cell_type": "code",
   "execution_count": null,
   "id": "concrete-blowing",
   "metadata": {},
   "outputs": [],
   "source": []
  },
  {
   "cell_type": "code",
   "execution_count": 151,
   "id": "hourly-mainstream",
   "metadata": {},
   "outputs": [],
   "source": [
    "def consulta5():\n",
    "    anio = '1987'\n",
    "    #anio = request.args.get('anio')\n",
    "    df = pd.read_csv('part-00000-b9329e8a-0722-48ad-abe8-ca47bb48619e-c000.csv', header=0 , sep=',')\n",
    "    df = df.sort_values('Year')\n",
    "    df.set_index('Year' , inplace=True)\n",
    "    df1 = df.loc[anio , [ 'UniqueCarrier', 'Origin' , 'Dest' , 'count']]\n",
    "    datos = []\n",
    "    if (isinstance(df1, pd.core.series.Series)):\n",
    "        #print(type(df1.count()))    \n",
    "        dicDatos = {'origen': df1.Origin, 'destino': df1.Dest , 'aerolinea': df1.UniqueCarrier , 'vuelos' : df1.count().astype('str')}\n",
    "        datos.append(dicDatos)\n",
    "        dicJson = {anio : datos}\n",
    "    else:\n",
    "        for registro in df1.itertuples():\n",
    "            dicDatos = {'origen': registro.Origin, 'destino':registro.Dest , 'aerolinea':registro.UniqueCarrier , 'vuelos' : registro.count}\n",
    "            datos.append(dicDatos)\n",
    "            dicdatos = {}\n",
    "        dicJson = {anio : datos}\n",
    "    return json.dumps(dicJson)"
   ]
  },
  {
   "cell_type": "code",
   "execution_count": 152,
   "id": "cellular-proposition",
   "metadata": {},
   "outputs": [
    {
     "name": "stdout",
     "output_type": "stream",
     "text": [
      "{\"1987\": [{\"origen\": \"MFR\", \"destino\": \"SFO\", \"aerolinea\": \"PS\", \"vuelos\": 20}, {\"origen\": \"OAK\", \"destino\": \"SNA\", \"aerolinea\": \"PS\", \"vuelos\": 104}, {\"origen\": \"LAX\", \"destino\": \"SJC\", \"aerolinea\": \"PS\", \"vuelos\": 19}, {\"origen\": \"LAX\", \"destino\": \"ABQ\", \"aerolinea\": \"PS\", \"vuelos\": 43}, {\"origen\": \"LAX\", \"destino\": \"PHX\", \"aerolinea\": \"PS\", \"vuelos\": 5}, {\"origen\": \"SFO\", \"destino\": \"GEG\", \"aerolinea\": \"PS\", \"vuelos\": 26}, {\"origen\": \"MRY\", \"destino\": \"LAX\", \"aerolinea\": \"PS\", \"vuelos\": 27}, {\"origen\": \"SNA\", \"destino\": \"OAK\", \"aerolinea\": \"PS\", \"vuelos\": 106}, {\"origen\": \"SFO\", \"destino\": \"SCK\", \"aerolinea\": \"PS\", \"vuelos\": 4}, {\"origen\": \"OAK\", \"destino\": \"SAN\", \"aerolinea\": \"PS\", \"vuelos\": 117}, {\"origen\": \"SJC\", \"destino\": \"BUR\", \"aerolinea\": \"PS\", \"vuelos\": 52}, {\"origen\": \"SMF\", \"destino\": \"BUR\", \"aerolinea\": \"PS\", \"vuelos\": 30}, {\"origen\": \"ABQ\", \"destino\": \"LAX\", \"aerolinea\": \"PS\", \"vuelos\": 30}, {\"origen\": \"LAX\", \"destino\": \"SFO\", \"aerolinea\": \"PS\", \"vuelos\": 210}, {\"origen\": \"SAN\", \"destino\": \"OAK\", \"aerolinea\": \"PS\", \"vuelos\": 109}, {\"origen\": \"BUR\", \"destino\": \"SFO\", \"aerolinea\": \"PS\", \"vuelos\": 48}, {\"origen\": \"BUR\", \"destino\": \"OAK\", \"aerolinea\": \"PS\", \"vuelos\": 81}, {\"origen\": \"LAX\", \"destino\": \"SAN\", \"aerolinea\": \"PS\", \"vuelos\": 3}, {\"origen\": \"LAX\", \"destino\": \"OAK\", \"aerolinea\": \"PS\", \"vuelos\": 33}, {\"origen\": \"SFO\", \"destino\": \"RNO\", \"aerolinea\": \"PS\", \"vuelos\": 29}, {\"origen\": \"LAX\", \"destino\": \"LAS\", \"aerolinea\": \"PS\", \"vuelos\": 30}, {\"origen\": \"BUR\", \"destino\": \"SMF\", \"aerolinea\": \"PS\", \"vuelos\": 23}, {\"origen\": \"SFO\", \"destino\": \"LAX\", \"aerolinea\": \"PS\", \"vuelos\": 100}, {\"origen\": \"SMF\", \"destino\": \"LAX\", \"aerolinea\": \"PS\", \"vuelos\": 51}, {\"origen\": \"PHX\", \"destino\": \"LAX\", \"aerolinea\": \"PS\", \"vuelos\": 26}, {\"origen\": \"SJC\", \"destino\": \"LAX\", \"aerolinea\": \"PS\", \"vuelos\": 46}, {\"origen\": \"OAK\", \"destino\": \"BUR\", \"aerolinea\": \"PS\", \"vuelos\": 53}, {\"origen\": \"SFO\", \"destino\": \"BUR\", \"aerolinea\": \"PS\", \"vuelos\": 75}, {\"origen\": \"LAS\", \"destino\": \"SNA\", \"aerolinea\": \"PS\", \"vuelos\": 34}, {\"origen\": \"LAS\", \"destino\": \"SAN\", \"aerolinea\": \"PS\", \"vuelos\": 4}, {\"origen\": \"BUR\", \"destino\": \"SJC\", \"aerolinea\": \"PS\", \"vuelos\": 22}, {\"origen\": \"SNA\", \"destino\": \"SJC\", \"aerolinea\": \"PS\", \"vuelos\": 50}, {\"origen\": \"OAK\", \"destino\": \"SFO\", \"aerolinea\": \"PS\", \"vuelos\": 23}, {\"origen\": \"SNA\", \"destino\": \"LAS\", \"aerolinea\": \"PS\", \"vuelos\": 84}, {\"origen\": \"SAN\", \"destino\": \"LAS\", \"aerolinea\": \"PS\", \"vuelos\": 4}, {\"origen\": \"SFO\", \"destino\": \"PDX\", \"aerolinea\": \"PS\", \"vuelos\": 23}, {\"origen\": \"LAX\", \"destino\": \"RNO\", \"aerolinea\": \"PS\", \"vuelos\": 4}, {\"origen\": \"TUS\", \"destino\": \"LAX\", \"aerolinea\": \"PS\", \"vuelos\": 20}, {\"origen\": \"SCK\", \"destino\": \"LAX\", \"aerolinea\": \"PS\", \"vuelos\": 21}, {\"origen\": \"BUR\", \"destino\": \"LAS\", \"aerolinea\": \"PS\", \"vuelos\": 65}, {\"origen\": \"SFO\", \"destino\": \"SAN\", \"aerolinea\": \"PS\", \"vuelos\": 65}, {\"origen\": \"LAS\", \"destino\": \"LAX\", \"aerolinea\": \"PS\", \"vuelos\": 66}, {\"origen\": \"SAN\", \"destino\": \"SFO\", \"aerolinea\": \"PS\", \"vuelos\": 14}]}\n"
     ]
    }
   ],
   "source": [
    "print(consulta5())"
   ]
  },
  {
   "cell_type": "code",
   "execution_count": null,
   "id": "dense-hurricane",
   "metadata": {},
   "outputs": [],
   "source": []
  },
  {
   "cell_type": "code",
   "execution_count": 76,
   "id": "important-fourth",
   "metadata": {},
   "outputs": [
    {
     "name": "stdout",
     "output_type": "stream",
     "text": [
      "3.7.3\n"
     ]
    }
   ],
   "source": [
    "from platform import python_version\n",
    "\n",
    "print(python_version())"
   ]
  },
  {
   "cell_type": "code",
   "execution_count": 77,
   "id": "binary-metabolism",
   "metadata": {},
   "outputs": [
    {
     "name": "stdout",
     "output_type": "stream",
     "text": [
      "1.2.2\n"
     ]
    }
   ],
   "source": [
    "import pandas as pd\n",
    "print(pd.__version__)"
   ]
  },
  {
   "cell_type": "code",
   "execution_count": null,
   "id": "tested-catch",
   "metadata": {},
   "outputs": [],
   "source": []
  },
  {
   "cell_type": "code",
   "execution_count": null,
   "id": "grave-correction",
   "metadata": {},
   "outputs": [],
   "source": []
  },
  {
   "cell_type": "code",
   "execution_count": null,
   "id": "overall-feature",
   "metadata": {},
   "outputs": [],
   "source": []
  },
  {
   "cell_type": "code",
   "execution_count": 181,
   "id": "charitable-equity",
   "metadata": {},
   "outputs": [
    {
     "data": {
      "text/plain": [
       "array([ -3.,   0., 121.,   6.,  18.,  10.,  31.,  11.,  79.,  12.,  21.,\n",
       "        13.,  16., 128.,  17.,  25., 122.,  59.,  20.,  44.,  15.,  14.,\n",
       "         9.,  57.,  41.,   5.,  22.,  19.,   8.,  29.,  40.,  24.,  26.,\n",
       "        53.,  48.,  23., 107.,  35.,  72.,   7.,  83., 201.,  27., 135.,\n",
       "         3.,   1.,   4.])"
      ]
     },
     "execution_count": 181,
     "metadata": {},
     "output_type": "execute_result"
    }
   ],
   "source": [
    "import numpy as np\n",
    "import random\n",
    "df = pd.read_csv('data.csv', header=0 , sep=',')\n",
    "df['WeatherDelay'] = df['WeatherDelay'].replace(np.nan,random.randint(-10, 1))\n",
    "df['WeatherDelay'].unique()\n"
   ]
  },
  {
   "cell_type": "code",
   "execution_count": 184,
   "id": "super-treaty",
   "metadata": {},
   "outputs": [],
   "source": [
    "df.to_csv('newData.csv', header =True, index=False)"
   ]
  },
  {
   "cell_type": "code",
   "execution_count": null,
   "id": "realistic-london",
   "metadata": {},
   "outputs": [],
   "source": []
  }
 ],
 "metadata": {
  "kernelspec": {
   "display_name": "Python 3",
   "language": "python",
   "name": "python3"
  },
  "language_info": {
   "codemirror_mode": {
    "name": "ipython",
    "version": 3
   },
   "file_extension": ".py",
   "mimetype": "text/x-python",
   "name": "python",
   "nbconvert_exporter": "python",
   "pygments_lexer": "ipython3",
   "version": "3.7.3"
  }
 },
 "nbformat": 4,
 "nbformat_minor": 5
}
