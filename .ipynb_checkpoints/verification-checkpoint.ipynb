{
 "cells": [
  {
   "cell_type": "code",
   "execution_count": 57,
   "metadata": {},
   "outputs": [],
   "source": [
    "import pandas as pd\n",
    "import json\n",
    "\n",
    "def consulta3():\n",
    "    #anio = request.args.get('anio')\n",
    "    anio = '2005'\n",
    "    df = pd.read_csv('./source/consulta3_.csv/resultado3.csv', header=0 , sep=',')\n",
    "    #df.info()\n",
    "    df[['Year','UniqueCarrier','count']] = df[['Year','UniqueCarrier','count']].astype(str)\n",
    "    #df.info()\n",
    "    df = df.sort_values('Year')\n",
    "    df.set_index('Year' , inplace=True)\n",
    "    #print(df)\n",
    "    df1 = df.loc[anio , ['UniqueCarrier', 'count']]\n",
    "    #print(df1)\n",
    "    datos = []\n",
    "    if (isinstance(df1, pd.core.series.Series)):\n",
    "        print(df1.count())    \n",
    "        dicDatos = {'aerolinea' : df1.UniqueCarrier , 'retraso' : df1.count().astype('str')}\n",
    "        datos.append(dicDatos)\n",
    "        dicJson = {anio : datos}\n",
    "    else:\n",
    "        #print ('no es serie')\n",
    "        for registro in df1.itertuples():        \n",
    "            dicDatos = {'aerolinea' : registro.UniqueCarrier , 'retraso' : registro.count}\n",
    "            datos.append(dicDatos)\n",
    "            dicdatos = {}\n",
    "        dicJson = {anio : datos}\n",
    "    return dicJson"
   ]
  },
  {
   "cell_type": "code",
   "execution_count": 58,
   "metadata": {},
   "outputs": [
    {
     "name": "stdout",
     "output_type": "stream",
     "text": [
      "2\n",
      "{'2005': [{'aerolinea': 'UA', 'retraso': '2'}]}\n"
     ]
    }
   ],
   "source": [
    "print(consulta3())"
   ]
  },
  {
   "cell_type": "code",
   "execution_count": 185,
   "metadata": {},
   "outputs": [],
   "source": [
    "def consulta2():\n",
    "    #anio = request.args.get('anio')\n",
    "    anio='2004'\n",
    "    df = pd.read_csv('./source/consulta3_.csv/resultado3.csv', header=0 , sep=',')\n",
    "    df = df.sort_values('Year')\n",
    "    df.set_index('Year' , inplace=True)\n",
    "    datos = []\n",
    "    try:\n",
    "        print('entro')\n",
    "        df1 = df.loc[anio , ['UniqueCarrier', 'count']]\n",
    "        if (isinstance(df1, pd.core.series.Series)):\n",
    "            #print(type(df1))\n",
    "            df1 = df1.to_frame().T\n",
    "            print(df1)\n",
    "            #print(df1.iloc[0].count)\n",
    "            df1 =df1.rename(columns={'count': 'retrasos'})\n",
    "\n",
    "            print(df1.iloc[0].retrasos)\n",
    "            dicDatos = {'aerolinea' : df1.iloc[0].UniqueCarrier, 'retraso' : df1.iloc[0].retrasos.astype('str')}\n",
    "            datos.append(dicDatos)\n",
    "            dicJson = {anio : datos}\n",
    "        else:\n",
    "            #print ('no es serie')\t\t\n",
    "            for registro in df1.itertuples():        \n",
    "                dicDatos = {'aerolinea' : registro.UniqueCarrier , 'retraso' : registro.count}\n",
    "                datos.append(dicDatos)\n",
    "                dicdatos = {}\n",
    "            dicJson = {anio : datos}\n",
    "    except:\n",
    "        dicDatos = {'aerolinea' : 'No Data' , 'retraso' : 'No data'}\n",
    "        datos.append(dicDatos)\n",
    "        dicJson = {anio : datos}\n",
    "\n",
    "    return json.dumps(dicJson)"
   ]
  },
  {
   "cell_type": "code",
   "execution_count": 186,
   "metadata": {},
   "outputs": [
    {
     "name": "stdout",
     "output_type": "stream",
     "text": [
      "{\"2004\": [{\"aerolinea\": \"No Data\", \"retraso\": \"No data\"}]}\n"
     ]
    }
   ],
   "source": [
    "print(consulta2())"
   ]
  },
  {
   "cell_type": "code",
   "execution_count": null,
   "metadata": {},
   "outputs": [],
   "source": []
  }
 ],
 "metadata": {
  "kernelspec": {
   "display_name": "Python 3",
   "language": "python",
   "name": "python3"
  },
  "language_info": {
   "codemirror_mode": {
    "name": "ipython",
    "version": 3
   },
   "file_extension": ".py",
   "mimetype": "text/x-python",
   "name": "python",
   "nbconvert_exporter": "python",
   "pygments_lexer": "ipython3",
   "version": "3.7.3"
  }
 },
 "nbformat": 4,
 "nbformat_minor": 4
}
